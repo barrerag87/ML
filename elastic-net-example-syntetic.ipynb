{
 "cells": [
  {
   "cell_type": "code",
   "execution_count": 1,
   "metadata": {},
   "outputs": [
    {
     "name": "stdout",
     "output_type": "stream",
     "text": [
      "Error Cuadrático Medio (MSE) en el conjunto de prueba: 4073.6345354960085\n"
     ]
    }
   ],
   "source": [
    "from sklearn.datasets import make_regression\n",
    "from sklearn.linear_model import ElasticNet\n",
    "from sklearn.model_selection import train_test_split\n",
    "from sklearn.metrics import mean_squared_error\n",
    "import numpy as np\n",
    "\n",
    "# Generar datos de regresión sintéticos\n",
    "X, y = make_regression(n_samples=1000, n_features=100, noise=0.1, random_state=42)\n",
    "\n",
    "# Dividir los datos en conjuntos de entrenamiento y prueba\n",
    "X_train, X_test, y_train, y_test = train_test_split(X, y, test_size=0.2, random_state=42)\n",
    "\n",
    "# Inicializar el modelo Elastic Net con parámetros alpha y l1_ratio\n",
    "# alpha controla la intensidad de la regularización\n",
    "# l1_ratio controla el equilibrio entre la regularización L1 y L2 (0 = solo L2, 1 = solo L1)\n",
    "elastic_net_model = ElasticNet(alpha=1.0, l1_ratio=0.5, random_state=42)\n",
    "\n",
    "# Entrenar el modelo Elastic Net con los datos de entrenamiento\n",
    "elastic_net_model.fit(X_train, y_train)\n",
    "\n",
    "# Predecir los valores de y para los datos de prueba\n",
    "y_pred = elastic_net_model.predict(X_test)\n",
    "\n",
    "# Calcular el error cuadrático medio (MSE) de las predicciones\n",
    "mse = mean_squared_error(y_test, y_pred)\n",
    "\n",
    "print(f\"Error Cuadrático Medio (MSE) en el conjunto de prueba: {mse}\")\n"
   ]
  }
 ],
 "metadata": {
  "kernelspec": {
   "display_name": "Python 3",
   "language": "python",
   "name": "python3"
  },
  "language_info": {
   "codemirror_mode": {
    "name": "ipython",
    "version": 3
   },
   "file_extension": ".py",
   "mimetype": "text/x-python",
   "name": "python",
   "nbconvert_exporter": "python",
   "pygments_lexer": "ipython3",
   "version": "3.11.8"
  }
 },
 "nbformat": 4,
 "nbformat_minor": 2
}
