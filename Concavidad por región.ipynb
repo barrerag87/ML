{
 "cells": [
  {
   "cell_type": "markdown",
   "metadata": {},
   "source": [
    "\n",
    "\n",
    "**Teorema:** Sea $f$ una función de clase $C^2$ (es decir, con derivadas segundas continuas) en un conjunto abierto $D$. Entonces:\n",
    "\n",
    "* Si el determinante de la matriz hessiana de $f$, $det(H(f))$, es **positivo** para todos los puntos en $D$, entonces $f$ es **convexa** en $D$.\n",
    "* Si el determinante de la matriz hessiana es **negativo** para todos los puntos en $D$, entonces $f$ es **cóncava** en $D$.\n",
    "* Si el determinante de la matriz hessiana es **cero** para algunos puntos en $D$, entonces la función puede ser cóncava o convexa en esa región, y se necesita un análisis más detallado.\n",
    "\n",
    "Este teorema se basa en la siguiente idea: la matriz hessiana describe la curvatura de la función en un punto. Si la curvatura es positiva, la función es convexa. Si la curvatura es negativa, la función es cóncava. "
   ]
  },
  {
   "cell_type": "markdown",
   "metadata": {},
   "source": [
    "### Ejercicio 2 (Clase 5)\n",
    "Considera la función $ f(x, y, z) = x^3 + y^3 + z^3 - 3xyz $. Calcula la matriz hessiana y determina las regiones donde $ f $ es cóncava o convexa."
   ]
  },
  {
   "cell_type": "code",
   "execution_count": 17,
   "metadata": {},
   "outputs": [
    {
     "name": "stdout",
     "output_type": "stream",
     "text": [
      "El determinante de la matriz hessiana en el punto (1, 3, 3) es -1512\n"
     ]
    }
   ],
   "source": [
    "import sympy as sp\n",
    "\n",
    "\"\"\"\n",
    "\n",
    "-54(x^2 - xy + y^2)(x - y + z)(x + y - z)\n",
    "-54(x - y - z)(x - y + z)(x + y - z)\n",
    "  region1 = (x > y + z) & (x > y - z) & (x > -y + z)\n",
    "  region2 = (x < y + z) & (x < y - z) & (x < -y + z)\n",
    "  region3 = (x < y + z) & (x > y - z) & (x > -y + z)\n",
    "  region4 = (x > y + z) & (x < y - z) & (x > -y + z)\n",
    "  region5 = (x < y + z) & (x < y - z) & (x < -y + z)\n",
    "  region6 = (x > y + z) & (x > y - z) & (x < -y + z)\n",
    "  region7 = (x > y + z) & (x < y - z) & (x < -y + z)\n",
    "  region8 = (x < y + z) & (x > y - z) & (x < -y + z)\n",
    "\"\"\"\n",
    "\n",
    "# Definir las variables simbólicas\n",
    "x, y, z = sp.symbols('x y z')\n",
    "\n",
    "# Definir la función f\n",
    "f = x**3 + y**3 + z**3 - 3*x*y*z\n",
    "\n",
    "# Calcular las derivadas segundas de f\n",
    "f_xx = sp.diff(sp.diff(f, x), x)\n",
    "f_yy = sp.diff(sp.diff(f, y), y)\n",
    "f_zz = sp.diff(sp.diff(f, z), z)\n",
    "f_xy = sp.diff(sp.diff(f, x), y)\n",
    "f_xz = sp.diff(sp.diff(f, x), z)\n",
    "f_yz = sp.diff(sp.diff(f, y), z)\n",
    "\n",
    "# Construir la matriz hessiana\n",
    "H = sp.Matrix([\n",
    "    [f_xx, f_xy, f_xz],\n",
    "    [f_xy, f_yy, f_yz],\n",
    "    [f_xz, f_yz, f_zz]\n",
    "])\n",
    "\n",
    "# Calcular el determinante de la matriz hessiana\n",
    "det_H = H.det()\n",
    "\n",
    "# Solicitar al usuario que ingrese valores para x, y, z\n",
    "x_val = 1\n",
    "y_val = 3\n",
    "z_val = 3\n",
    "\n",
    "# Evaluar el determinante en el punto dado\n",
    "det_val = det_H.subs({x: x_val, y: y_val, z: z_val})\n",
    "\n",
    "# Imprimir el resultado\n",
    "print(f\"El determinante de la matriz hessiana en el punto ({x_val}, {y_val}, {z_val}) es {det_val}\")\n"
   ]
  },
  {
   "cell_type": "code",
   "execution_count": 19,
   "metadata": {},
   "outputs": [
    {
     "name": "stdout",
     "output_type": "stream",
     "text": [
      "Matrix([[6*x, -3*z, -3*y], [-3*z, 6*y, -3*x], [-3*y, -3*x, 6*z]])\n",
      "-54*x**3 + 162*x*y*z - 54*y**3 - 54*z**3\n"
     ]
    }
   ],
   "source": []
  }
 ],
 "metadata": {
  "kernelspec": {
   "display_name": "Python 3",
   "language": "python",
   "name": "python3"
  },
  "language_info": {
   "codemirror_mode": {
    "name": "ipython",
    "version": 3
   },
   "file_extension": ".py",
   "mimetype": "text/x-python",
   "name": "python",
   "nbconvert_exporter": "python",
   "pygments_lexer": "ipython3",
   "version": "3.11.8"
  }
 },
 "nbformat": 4,
 "nbformat_minor": 2
}
