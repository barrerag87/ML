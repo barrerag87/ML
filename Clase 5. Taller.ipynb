{
 "cells": [
  {
   "cell_type": "markdown",
   "metadata": {},
   "source": [
    "### Caso 1. Cálculo del hessiano. "
   ]
  },
  {
   "cell_type": "code",
   "execution_count": 1,
   "metadata": {},
   "outputs": [
    {
     "name": "stdout",
     "output_type": "stream",
     "text": [
      "La matriz hessiana es:\n",
      "⎡2  1⎤\n",
      "⎢    ⎥\n",
      "⎣1  2⎦\n"
     ]
    }
   ],
   "source": [
    "import sympy as sp\n",
    "\n",
    "# Definir las variables\n",
    "x, y = sp.symbols('x y')\n",
    "\n",
    "# Definir la función. Cambia esto por tu función específica.\n",
    "f = x**2 + y**2 + x*y\n",
    "\n",
    "# Calcular las derivadas segundas\n",
    "f_xx = sp.diff(f, x, x)\n",
    "f_xy = sp.diff(f, x, y)\n",
    "f_yx = sp.diff(f, y, x)\n",
    "f_yy = sp.diff(f, y, y)\n",
    "\n",
    "# Construir la matriz hessiana\n",
    "H = sp.Matrix([[f_xx, f_xy], [f_yx, f_yy]])\n",
    "\n",
    "# Mostrar el resultado\n",
    "print(\"La matriz hessiana es:\")\n",
    "sp.pprint(H, use_unicode=True)\n"
   ]
  },
  {
   "cell_type": "markdown",
   "metadata": {},
   "source": [
    "### Caso 2. Cálculo del hessiano. Método más eficiente"
   ]
  },
  {
   "cell_type": "code",
   "execution_count": 1,
   "metadata": {},
   "outputs": [
    {
     "name": "stdout",
     "output_type": "stream",
     "text": [
      "La matriz hessiana es:\n",
      "⎡2  1  0  0  0  0  0⎤\n",
      "⎢                   ⎥\n",
      "⎢1  2  1  0  0  0  0⎥\n",
      "⎢                   ⎥\n",
      "⎢0  1  2  1  0  0  0⎥\n",
      "⎢                   ⎥\n",
      "⎢0  0  1  2  1  0  0⎥\n",
      "⎢                   ⎥\n",
      "⎢0  0  0  1  2  1  0⎥\n",
      "⎢                   ⎥\n",
      "⎢0  0  0  0  1  2  1⎥\n",
      "⎢                   ⎥\n",
      "⎣0  0  0  0  0  1  2⎦\n"
     ]
    }
   ],
   "source": [
    "import sympy as sp\n",
    "\n",
    "# Definir las variables\n",
    "x1, x2, x3, x4, x5, x6, x7 = sp.symbols('x1:8')  # Genera x1, x2, ..., x7\n",
    "\n",
    "# Definir la función\n",
    "f = x1**2 + x2**2 + x3**2 + x4**2 + x5**2 + x6**2 + x7**2 + x1*x2 + x2*x3 + x3*x4 + x4*x5 + x5*x6 + x6*x7\n",
    "\n",
    "# Calcular las derivadas segundas y construir la matriz hessiana\n",
    "H = sp.Matrix(7, 7, lambda i, j: sp.diff(f, (x1, x2, x3, x4, x5, x6, x7)[i], (x1, x2, x3, x4, x5, x6, x7)[j]))\n",
    "\n",
    "# Mostrar el resultado\n",
    "print(\"La matriz hessiana es:\")\n",
    "sp.pprint(H, use_unicode=True)\n"
   ]
  },
  {
   "cell_type": "markdown",
   "metadata": {},
   "source": [
    "### ¿Cómo determinar si una matriz es definida positiva o negativa?\n",
    "\n",
    "- **Definida positiva**: todos los autovalores son positivos.\n",
    "- **Definida negativa**: todos los autovalores son negativos.\n",
    "- **Semidefinida positiva**: todos los autovalores son no negativos (positivos o cero).\n",
    "- **Semidefinida negativa**: todos los autovalores son no positivos (negativos o cero)."
   ]
  },
  {
   "cell_type": "code",
   "execution_count": 2,
   "metadata": {},
   "outputs": [
    {
     "name": "stdout",
     "output_type": "stream",
     "text": [
      "La matriz A es: Definida positiva\n"
     ]
    }
   ],
   "source": [
    "import numpy as np\n",
    "\n",
    "def matriz_definicion(A):\n",
    "    eigenvalues = np.linalg.eigvals(A)\n",
    "    \n",
    "    if np.all(eigenvalues > 0):\n",
    "        return \"Definida positiva\"\n",
    "    elif np.all(eigenvalues < 0):\n",
    "        return \"Definida negativa\"\n",
    "    elif np.all(eigenvalues >= 0):\n",
    "        return \"Semidefinida positiva\"\n",
    "    elif np.all(eigenvalues <= 0):\n",
    "        return \"Semidefinida negativa\"\n",
    "    else:\n",
    "        return \"Indefinida\"\n",
    "\n",
    "# Ejemplo de uso\n",
    "A = np.array([[2, -1, 0],\n",
    "              [-1, 2, -1],\n",
    "              [0, -1, 2]])\n",
    "\n",
    "print(\"La matriz A es:\", matriz_definicion(A))\n"
   ]
  },
  {
   "cell_type": "markdown",
   "metadata": {},
   "source": [
    "### Resuelva los siguientes ejercicios utilizando Python\n",
    "\n",
    "Calcular si una función es cóncava o convexa mediante el uso de la matriz hessiana es un enfoque fundamental en el análisis de funciones de varias variables. La regla general es que si la matriz hessiana de una función es semidefinida positiva en un conjunto convexo, entonces la función es convexa en ese conjunto. Si la matriz hessiana es semidefinida negativa, entonces la función es cóncava. :\n",
    "\n",
    "### Ejercicio 1\n",
    "Dada la función $ f(x, y) = 3x^4 - 8x^2y + y^4 $, determina si $ f $ es cóncava o convexa en $ \\mathbb{R}^2 $.\n",
    "\n",
    "### Ejercicio 2\n",
    "Considera la función $ f(x, y, z) = x^3 + y^3 + z^3 - 3xyz $. Calcula la matriz hessiana y determina las regiones donde $ f $ es cóncava o convexa.\n",
    "\n",
    "### Ejercicio 3\n",
    "Evalúa la convexidad o concavidad de la función $ f(x, y) = e^{x + y} + x^2 - y^2 $ en todo $ \\mathbb{R}^2 $.\n",
    "\n",
    "### Ejercicio 4\n",
    "Para la función $ f(x, y, z) = x^2y + y^2z + z^2x - xy - yz - zx $, determina si es cóncava o convexa utilizando la matriz hessiana.\n",
    "\n",
    "### Ejercicio 5\n",
    "Dada $ f(x, y, z) = \\ln(x + y + z) $ con $ x, y, z > 0 $, usa la matriz hessiana para determinar si la función es cóncava o convexa en su dominio.\n",
    "\n",
    "### Ejercicio 6\n",
    "Considera la función $ f(x, y) = x^2 - 4xy + 4y^2 + 2x - 4y $. Utiliza la matriz hessiana para investigar la convexidad o concavidad de $ f $.\n",
    "\n",
    "Para cada ejercicio, sigue estos pasos generales:\n",
    "1. Calcula la matriz hessiana de la función dada.\n",
    "2. Determina si la matriz hessiana es semidefinida positiva o negativa (puedes hacerlo calculando sus autovalores y comprobando sus signos).\n",
    "3. Basándote en el paso 2, concluye si la función es cóncava o convexa en su dominio.\n",
    "\n",
    "Estos ejercicios están diseñados para reforzar la comprensión de cómo las propiedades de la matriz hessiana se relacionan con la convexidad y concavidad de funciones multivariables.\n"
   ]
  }
 ],
 "metadata": {
  "kernelspec": {
   "display_name": "Python 3",
   "language": "python",
   "name": "python3"
  },
  "language_info": {
   "codemirror_mode": {
    "name": "ipython",
    "version": 3
   },
   "file_extension": ".py",
   "mimetype": "text/x-python",
   "name": "python",
   "nbconvert_exporter": "python",
   "pygments_lexer": "ipython3",
   "version": "3.11.8"
  }
 },
 "nbformat": 4,
 "nbformat_minor": 2
}
