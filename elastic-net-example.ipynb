{
 "cells": [
  {
   "cell_type": "markdown",
   "metadata": {},
   "source": [
    "Elastic Net es una técnica de regularización para modelos de regresión que combina las penalidades L1 y L2 de la regresión Lasso y Ridge, respectivamente. Matemáticamente, el objetivo de Elastic Net es minimizar la siguiente función de coste:\n",
    "\n",
    "$$\n",
    "\\min_{\\mathbf{w}} \\left\\{ \\frac{1}{2N} \\sum_{i=1}^{N} (y_i - \\mathbf{w}^T \\mathbf{x}_i)^2 + \\lambda_1 \\|\\mathbf{w}\\|_1 + \\frac{1}{2} \\lambda_2 \\|\\mathbf{w}\\|_2^2 \\right\\}\n",
    "$$\n",
    "\n",
    "donde:\n",
    "- $N$ es el número de muestras en el conjunto de datos.\n",
    "- $y_i$ es el valor objetivo para la muestra $i$.\n",
    "- $\\mathbf{x}_i$ es el vector de características de la muestra $i$.\n",
    "- $\\mathbf{w}$ es el vector de coeficientes del modelo.\n",
    "- $\\|\\mathbf{w}\\|_1$ es la norma L1 de $\\mathbf{w}$, definida como $\\sum_{j} |w_j|$, que impone escasez en el vector de coeficientes.\n",
    "- $\\|\\mathbf{w}\\|_2^2$ es la norma L2 al cuadrado de $\\mathbf{w}$, definida como $\\sum_{j} w_j^2$, que impone suavidad en el vector de coeficientes.\n",
    "- $\\lambda_1$ y $\\lambda_2$ son los parámetros de regularización que controlan la fuerza de las penalidades L1 y L2, respectivamente.\n",
    "\n",
    "La penalidad L1 hace que algunos coeficientes sean exactamente cero, lo que conduce a modelos más simples y a menudo más interpretables, facilitando la selección de características. La penalidad L2, por otro lado, asegura que los coeficientes no se vuelvan demasiado grandes, lo que mejora la robustez del modelo ante la colinealidad entre las características.\n",
    "\n",
    "Elastic Net es particularmente útil cuando hay múltiples características correlacionadas entre sí o cuando el número de predictores es mayor que el número de observaciones. La combinación de penalidades L1 y L2 permite que Elastic Net herede algunas de las mejores propiedades de ambos, Lasso y Ridge: la capacidad de producir modelos parsimoniosos de Lasso y la habilidad de Ridge para manejar datos correlacionados.\n",
    "\n",
    "La elección de $\\lambda_1$ y $\\lambda_2$ es crítica y generalmente se realiza mediante técnicas de selección de modelos como la validación cruzada. Un parámetro adicional, $\\alpha$, a menudo se usa para equilibrar las penalidades L1 y L2, donde $\\alpha = \\lambda_1 / (\\lambda_1 + \\lambda_2)$ y $1 - \\alpha$ es el coeficiente para la penalidad L2."
   ]
  },
  {
   "cell_type": "code",
   "execution_count": 2,
   "metadata": {},
   "outputs": [
    {
     "name": "stdout",
     "output_type": "stream",
     "text": [
      "Error Cuadrático Medio (MSE) en el conjunto de prueba: 0.554245232686696\n",
      "Mejor valor de alpha encontrado: 0.001600788884122164\n",
      "Mejor valor de l1_ratio encontrado: 0.5\n"
     ]
    }
   ],
   "source": [
    "from sklearn.datasets import fetch_california_housing\n",
    "from sklearn.linear_model import ElasticNetCV\n",
    "from sklearn.model_selection import train_test_split\n",
    "from sklearn.metrics import mean_squared_error\n",
    "from sklearn.preprocessing import StandardScaler\n",
    "\n",
    "# Cargar el conjunto de datos de precios de viviendas de California\n",
    "california = fetch_california_housing()\n",
    "X, y = california.data, california.target\n",
    "\n",
    "# Preprocesamiento: Escalar las características\n",
    "scaler = StandardScaler()\n",
    "X_scaled = scaler.fit_transform(X)\n",
    "\n",
    "# Dividir los datos en conjuntos de entrenamiento y prueba\n",
    "X_train, X_test, y_train, y_test = train_test_split(X_scaled, y, test_size=0.2, random_state=42)\n",
    "\n",
    "# Inicializar y entrenar el modelo Elastic Net con validación cruzada\n",
    "elastic_net_cv = ElasticNetCV(cv=5, random_state=42)\n",
    "\n",
    "# Entrenar el modelo con los datos de entrenamiento\n",
    "elastic_net_cv.fit(X_train, y_train)\n",
    "\n",
    "# Predecir los valores de y para los datos de prueba\n",
    "y_pred = elastic_net_cv.predict(X_test)\n",
    "\n",
    "# Calcular el error cuadrático medio (MSE) de las predicciones\n",
    "mse = mean_squared_error(y_test, y_pred)\n",
    "\n",
    "print(f\"Error Cuadrático Medio (MSE) en el conjunto de prueba: {mse}\")\n",
    "print(f\"Mejor valor de alpha encontrado: {elastic_net_cv.alpha_}\")\n",
    "print(f\"Mejor valor de l1_ratio encontrado: {elastic_net_cv.l1_ratio_}\")\n"
   ]
  }
 ],
 "metadata": {
  "kernelspec": {
   "display_name": "Python 3",
   "language": "python",
   "name": "python3"
  },
  "language_info": {
   "codemirror_mode": {
    "name": "ipython",
    "version": 3
   },
   "file_extension": ".py",
   "mimetype": "text/x-python",
   "name": "python",
   "nbconvert_exporter": "python",
   "pygments_lexer": "ipython3",
   "version": "3.11.7"
  }
 },
 "nbformat": 4,
 "nbformat_minor": 2
}
