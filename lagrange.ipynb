{
 "cells": [
  {
   "cell_type": "markdown",
   "metadata": {},
   "source": [
    "## Usted debe ser capaz de resolver problemas de esta naturaleza de forma analítica y utilizando software."
   ]
  },
  {
   "cell_type": "code",
   "execution_count": null,
   "metadata": {},
   "outputs": [],
   "source": [
    "pip install sympy"
   ]
  },
  {
   "cell_type": "code",
   "execution_count": 9,
   "metadata": {},
   "outputs": [
    {
     "data": {
      "text/plain": [
       "[-2*sqrt(13), 2*sqrt(13)]"
      ]
     },
     "execution_count": 9,
     "metadata": {},
     "output_type": "execute_result"
    }
   ],
   "source": [
    "from sympy import symbols, Eq, solve, sqrt\n",
    "\n",
    "# Definir variables y multiplicador de Lagrange\n",
    "x, y, λ = symbols('x y λ')\n",
    "\n",
    "# Definir la función objetivo y la restricción\n",
    "f = 2*x + 3*y\n",
    "g = x**2 + y**2 - 4\n",
    "\n",
    "# Formular la función de Lagrange\n",
    "L = f - λ*g\n",
    "\n",
    "# Derivadas parciales respecto a x, y y λ\n",
    "Lx = L.diff(x)\n",
    "Ly = L.diff(y)\n",
    "Lλ = L.diff(λ)\n",
    "\n",
    "# Resolver el sistema de ecuaciones resultante\n",
    "soluciones = solve([Lx, Ly, Lλ], (x, y, λ))\n",
    "\n",
    "# Evaluar la función objetivo en los puntos críticos para encontrar los valores extremos\n",
    "valores_extremos = [f.subs({x: sol[0], y: sol[1]}) for sol in soluciones]\n",
    "\n",
    "valores_extremos\n",
    "\n"
   ]
  },
  {
   "cell_type": "markdown",
   "metadata": {},
   "source": [
    "\n",
    "\n",
    "### Ejercicio 1: Maximizar $ f(x, y) = xy $ sujeto a la restricción $ g(x, y) = x + y - 10 = 0 $\n",
    "\n",
    "1. Define la función objetivo y la restricción.\n",
    "2. Construye la función de Lagrange $ L(x, y, \\lambda) = xy + \\lambda (x + y - 10) $.\n",
    "3. Calcula las derivadas parciales respecto a $ x $, $ y $, y $ \\lambda $, y establece cada una igual a 0 para formar un sistema de ecuaciones.\n",
    "4. Resuelve el sistema para encontrar los valores de $ x $, $ y $, y $ \\lambda $.\n",
    "\n",
    "### Ejercicio 2: Minimizar $ f(x, y) = x^2 + y^2 $ con la restricción $ g(x, y) = x^2 + y^2 - 1 = 0 $ (es decir, en la circunferencia de radio 1)\n",
    "\n",
    "1. Define la función objetivo y la restricción.\n",
    "2. Construye la función de Lagrange $ L(x, y, \\lambda) = x^2 + y^2 + \\lambda (x^2 + y^2 - 1) $.\n",
    "3. Calcula las derivadas parciales y resuelve el sistema de ecuaciones resultante.\n",
    "4. Encuentra los puntos que minimizan la función dentro de la restricción.\n",
    "\n",
    "### Ejercicio 3: Maximizar $ f(x, y, z) = xyz $ sujeto a la restricción $ g(x, y, z) = x + y + z - 1 = 0 $\n",
    "\n",
    "1. Define la función y la restricción.\n",
    "2. Construye la función de Lagrange $ L(x, y, z, \\lambda) = xyz + \\lambda (x + y + z - 1) $.\n",
    "3. Deriva parcialmente respecto a $ x $, $ y $, $ z $, y $ \\lambda $ y plantea el sistema de ecuaciones.\n",
    "4. Resuelve el sistema para encontrar los valores óptimos.\n",
    "\n",
    "### Ejercicio 4:\n",
    "Maximizar la función $ f(x, y, z, w) = x^2y + yz^3 - w^2 $ sujeta a las restricciones $ g_1(x, y, z, w) = x + y + z + w - 10 = 0 $ y $ g_2(x, y, z, w) = xyzw - 24 = 0 $. Este problema requiere encontrar el punto en $ \\mathbb{R}^4 $ que maximiza la función objetivo dadas dos restricciones no lineales.\n",
    "\n",
    "### Ejercicio 5:\n",
    "Minimizar la función $ f(x, y, z) = e^{x+y} + z^2 $ sujeta a las restricciones $ g_1(x, y, z) = x^2 + y^2 + z^2 - 16 = 0 $ y $ g_2(x, y, z) = xy - z = 0 $. Este ejercicio implica un desafío adicional debido a la presencia de la función exponencial en la función objetivo y la interacción no trivial entre las variables en las restricciones.\n",
    "\n",
    "### Ejercicio 6:\n",
    "Encontrar los puntos críticos de la función $ f(x, y, z, w) = \\ln(x) + \\ln(y) + \\ln(z) + \\ln(w) $ sujeta a las restricciones $ g_1(x, y, z, w) = x + y + z + w - 20 = 0 $ y $ g_2(x, y, z, w) = x^3 + y^3 + z^3 + w^3 - 100 = 0 $. Este ejercicio introduce la complejidad de trabajar con funciones logarítmicas en la función objetivo y restricciones polinomiales de grado superior.\n",
    "\n"
   ]
  }
 ],
 "metadata": {
  "kernelspec": {
   "display_name": "Python 3",
   "language": "python",
   "name": "python3"
  },
  "language_info": {
   "codemirror_mode": {
    "name": "ipython",
    "version": 3
   },
   "file_extension": ".py",
   "mimetype": "text/x-python",
   "name": "python",
   "nbconvert_exporter": "python",
   "pygments_lexer": "ipython3",
   "version": "3.11.7"
  }
 },
 "nbformat": 4,
 "nbformat_minor": 2
}
